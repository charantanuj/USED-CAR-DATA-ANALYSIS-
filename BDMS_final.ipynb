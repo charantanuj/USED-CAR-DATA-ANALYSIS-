{
  "nbformat": 4,
  "nbformat_minor": 0,
  "metadata": {
    "colab": {
      "name": "BDMS_final.ipynb",
      "provenance": [],
      "collapsed_sections": []
    },
    "kernelspec": {
      "name": "python3",
      "display_name": "Python 3"
    },
    "language_info": {
      "name": "python"
    }
  },
  "cells": [
    {
      "cell_type": "code",
      "metadata": {
        "colab": {
          "base_uri": "https://localhost:8080/"
        },
        "id": "dPjs_rRc8dmd",
        "outputId": "dd08c419-9d2e-4aa5-c4f8-86c81f8c135c"
      },
      "source": [
        "!pip install findspark"
      ],
      "execution_count": 33,
      "outputs": [
        {
          "output_type": "stream",
          "name": "stdout",
          "text": [
            "Requirement already satisfied: findspark in /usr/local/lib/python3.7/dist-packages (1.4.2)\n"
          ]
        }
      ]
    },
    {
      "cell_type": "code",
      "metadata": {
        "colab": {
          "base_uri": "https://localhost:8080/"
        },
        "id": "9pECz1yh8m6A",
        "outputId": "fb26f6eb-f255-46a2-bb6f-824c41c18a9d"
      },
      "source": [
        "!pip install pyspark"
      ],
      "execution_count": 34,
      "outputs": [
        {
          "output_type": "stream",
          "name": "stdout",
          "text": [
            "Requirement already satisfied: pyspark in /usr/local/lib/python3.7/dist-packages (3.2.0)\n",
            "Requirement already satisfied: py4j==0.10.9.2 in /usr/local/lib/python3.7/dist-packages (from pyspark) (0.10.9.2)\n"
          ]
        }
      ]
    },
    {
      "cell_type": "code",
      "metadata": {
        "id": "c9WARhLT8etj"
      },
      "source": [
        "import traceback\n",
        "import findspark\n",
        "import os\n",
        "import sys\n",
        "#import libraries\n",
        "from pyspark.sql import SparkSession\n",
        "import pandas as pd\n",
        "import numpy as np\n",
        "import matplotlib\n",
        "import matplotlib.pyplot as plt\n",
        "import matplotlib.pylab as pylab\n",
        "import seaborn as sns\n",
        "import subprocess\n",
        "from pyspark.sql.functions import *\n",
        "from functools import reduce\n",
        "from pyspark.ml.feature import StringIndexer\n",
        "from pyspark.sql.types import DoubleType\n",
        "from pyspark.ml import Pipeline"
      ],
      "execution_count": 35,
      "outputs": []
    },
    {
      "cell_type": "code",
      "metadata": {
        "colab": {
          "base_uri": "https://localhost:8080/"
        },
        "id": "jzaSXtY512pc",
        "outputId": "c2422118-62a6-4f5f-eb16-91a431375c26"
      },
      "source": [
        "from google.colab import drive\n",
        "drive.mount('/content/drive')"
      ],
      "execution_count": 36,
      "outputs": [
        {
          "output_type": "stream",
          "name": "stdout",
          "text": [
            "Drive already mounted at /content/drive; to attempt to forcibly remount, call drive.mount(\"/content/drive\", force_remount=True).\n"
          ]
        }
      ]
    },
    {
      "cell_type": "code",
      "metadata": {
        "id": "pJ_yEj378iuP"
      },
      "source": [
        "spark = SparkSession \\\n",
        "    .builder \\\n",
        "    .master(\"local[*]\") \\\n",
        "    .appName(\"PySpark Craigslist\") \\\n",
        "    .config(\"spark.some.config.option\", \"some-value\") \\\n",
        "    .getOrCreate()\n",
        "\n",
        "sc = spark.sparkContext"
      ],
      "execution_count": 37,
      "outputs": []
    },
    {
      "cell_type": "code",
      "metadata": {
        "colab": {
          "base_uri": "https://localhost:8080/"
        },
        "id": "QMGnD5LE8wTI",
        "outputId": "84eb05fa-6004-4421-9d75-99c649404606"
      },
      "source": [
        "vehicle_listings = spark.read.format(\"csv\").option(\"header\", \"true\").load(\"/content/drive/MyDrive/unzipped_dbms/used_cars_data.csv\")\n",
        "type(vehicle_listings)"
      ],
      "execution_count": 38,
      "outputs": [
        {
          "output_type": "execute_result",
          "data": {
            "text/plain": [
              "pyspark.sql.dataframe.DataFrame"
            ]
          },
          "metadata": {},
          "execution_count": 38
        }
      ]
    },
    {
      "cell_type": "code",
      "metadata": {
        "colab": {
          "base_uri": "https://localhost:8080/"
        },
        "id": "xfKRtRgCkbxK",
        "outputId": "963b9ade-a356-4aef-94c9-c0891171edd3"
      },
      "source": [
        "vehicle_listings.show()"
      ],
      "execution_count": 10,
      "outputs": [
        {
          "output_type": "stream",
          "name": "stdout",
          "text": [
            "+-----------------+------------+----+----------+----------+---------------+-----+--------+-----------------+--------------------+------------+----------+--------------------+----------------+-------------------+-----------+--------------------+-----+-------------+----------------+--------------+-------------+----------------+---------+-------------+-------+--------------------+----------+--------------------+-----+------------+------+------+---------+--------+--------+-----------+-------------+----------+---------+--------------------+--------------------+----------+---------------+-------+------------------+-----------+------------------+-------+-------+--------------+-------------+------+-------------------+-----------+--------------------+------------+--------------------+------+--------------------+-----------------------+------------+--------------------+---------+-------+----+\n",
            "|              vin|back_legroom| bed|bed_height|bed_length|      body_type|cabin|    city|city_fuel_economy|combine_fuel_economy|daysonmarket|dealer_zip|         description|engine_cylinders|engine_displacement|engine_type|      exterior_color|fleet|frame_damaged|franchise_dealer|franchise_make|front_legroom|fuel_tank_volume|fuel_type|has_accidents| height|highway_fuel_economy|horsepower|      interior_color|isCab|is_certified|is_cpo|is_new|is_oemcpo|latitude|  length|listed_date|listing_color|listing_id|longitude|    main_picture_url|       major_options| make_name|maximum_seating|mileage|        model_name|owner_count|             power|  price|salvage|savings_amount|seller_rating| sp_id|            sp_name|theft_title|              torque|transmission|transmission_display|trimId|           trim_name|vehicle_damage_category|wheel_system|wheel_system_display|wheelbase|  width|year|\n",
            "+-----------------+------------+----+----------+----------+---------------+-----+--------+-----------------+--------------------+------------+----------+--------------------+----------------+-------------------+-----------+--------------------+-----+-------------+----------------+--------------+-------------+----------------+---------+-------------+-------+--------------------+----------+--------------------+-----+------------+------+------+---------+--------+--------+-----------+-------------+----------+---------+--------------------+--------------------+----------+---------------+-------+------------------+-----------+------------------+-------+-------+--------------+-------------+------+-------------------+-----------+--------------------+------------+--------------------+------+--------------------+-----------------------+------------+--------------------+---------+-------+----+\n",
            "|ZACNJABB5KPJ92081|     35.1 in|null|      null|      null|SUV / Crossover| null| Bayamon|             null|                null|         522|     00960|[!@@Additional In...|              I4|             1300.0|         I4|        Solar Yellow| null|         null|            True|          Jeep|      41.2 in|        12.7 gal| Gasoline|         null|66.5 in|                null|     177.0|               Black| null|        null|  null|  True|     null| 18.3988|166.6 in| 2019-04-06|       YELLOW| 237132766| -66.1582|https://static.ca...|['Quick Order Pac...|      Jeep|        5 seats|    7.0|          Renegade|       null|177 hp @ 5,750 RPM|23141.0|   null|             0|          2.8|370599|  Flagship Chrysler|       null|200 lb-ft @ 1,750...|           A|9-Speed Automatic...|t83804|        Latitude FWD|                   null|         FWD|   Front-Wheel Drive| 101.2 in|79.6 in|2019|\n",
            "|SALCJ2FX1LH858117|     38.1 in|null|      null|      null|SUV / Crossover| null|San Juan|             null|                null|         207|     00922|[!@@Additional In...|              I4|             2000.0|         I4|        Narvik Black| null|         null|            True|    Land Rover|      39.1 in|        17.7 gal| Gasoline|         null|  68 in|                null|     246.0|       Black (Ebony)| null|        null|  null|  True|     null| 18.4439|  181 in| 2020-02-15|        BLACK| 265946296| -66.0785|https://static.ca...|['Adaptive Cruise...|Land Rover|        7 seats|    8.0|   Discovery Sport|       null|246 hp @ 5,500 RPM|46500.0|   null|             0|          3.0|389227|Land Rover San Juan|       null|269 lb-ft @ 1,400...|           A|9-Speed Automatic...|t86759|               S AWD|                   null|         AWD|     All-Wheel Drive| 107.9 in|85.6 in|2020|\n",
            "|JF1VA2M67G9829723|     35.4 in|null|      null|      null|          Sedan| null|Guaynabo|             17.0|                null|        1233|     00969|                null|              H4|             2500.0|         H4|                None|False|        False|            True|          FIAT|      43.3 in|        15.9 gal| Gasoline|        False|58.1 in|                23.0|     305.0|                None|False|        null|  null| False|     null| 18.3467|180.9 in| 2017-04-25|      UNKNOWN| 173473508| -66.1098|                null|['Alloy Wheels', ...|    Subaru|        5 seats|   null|           WRX STI|        3.0|305 hp @ 6,000 RPM|46995.0|  False|             0|         null|370467|   FIAT de San Juan|      False|290 lb-ft @ 4,000...|           M|      6-Speed Manual|t58994|                Base|                   null|         AWD|     All-Wheel Drive| 104.3 in|78.9 in|2016|\n",
            "|SALRR2RV0L2433391|     37.6 in|null|      null|      null|SUV / Crossover| null|San Juan|             null|                null|         196|     00922|[!@@Additional In...|              V6|             3000.0|         V6|          Eiger Gray| null|         null|            True|    Land Rover|        39 in|        23.5 gal| Gasoline|         null|  73 in|                null|     340.0|Gray (Ebony/Ebony...| null|        null|  null|  True|     null| 18.4439|195.1 in| 2020-02-26|         GRAY| 266911050| -66.0785|https://static.ca...|                null|Land Rover|        7 seats|   11.0|         Discovery|       null|340 hp @ 6,500 RPM|67430.0|   null|             0|          3.0|389227|Land Rover San Juan|       null|332 lb-ft @ 3,500...|           A|8-Speed Automatic...|t86074|          V6 HSE AWD|                   null|         AWD|     All-Wheel Drive|   115 in|87.4 in|2020|\n",
            "|SALCJ2FXXLH862327|     38.1 in|null|      null|      null|SUV / Crossover| null|San Juan|             null|                null|         137|     00922|[!@@Additional In...|              I4|             2000.0|         I4|        Narvik Black| null|         null|            True|    Land Rover|      39.1 in|        17.7 gal| Gasoline|         null|  68 in|                null|     246.0|       Black (Ebony)| null|        null|  null|  True|     null| 18.4439|  181 in| 2020-04-25|        BLACK| 270957414| -66.0785|https://static.ca...|['Adaptive Cruise...|Land Rover|        7 seats|    7.0|   Discovery Sport|       null|246 hp @ 5,500 RPM|48880.0|   null|             0|          3.0|389227|Land Rover San Juan|       null|269 lb-ft @ 1,400...|           A|9-Speed Automatic...|t86759|               S AWD|                   null|         AWD|     All-Wheel Drive| 107.9 in|85.6 in|2020|\n",
            "|SALYK2EX1LA261711|     37.1 in|null|      null|      null|SUV / Crossover| null|San Juan|             null|                null|         242|     00922|[!@@Additional In...|              I4|             2000.0|         I4|      Kaikoura Stone|False|        False|            True|    Land Rover|      40.2 in|        16.6 gal| Gasoline|        False|66.3 in|                null|     247.0|Brown (Ebony / Eb...|False|        null|  null|  True|     null| 18.4439|188.9 in| 2020-01-11|      UNKNOWN| 262940541| -66.0785|https://static.ca...|['Leather Seats',...|Land Rover|        5 seats|   12.0| Range Rover Velar|       null|247 hp @ 5,500 RPM|66903.0|  False|             0|          3.0|389227|Land Rover San Juan|      False|269 lb-ft @ 1,200...|           A|8-Speed Automatic...|t85614|P250 R-Dynamic S AWD|                   null|         AWD|     All-Wheel Drive| 113.1 in|84.4 in|2020|\n",
            "|3MZBPABL6KM107908|     35.1 in|null|      null|      null|          Sedan| null| Bayamon|             null|                null|         447|     00960|[!@@Additional In...|              I4|             2500.0|         I4|        SONIC SILVER| null|         null|            True|          Jeep|      42.3 in|        13.2 gal| Gasoline|         null|56.9 in|                null|     186.0|               Black| null|        null|  null|  True|     null| 18.3988|183.5 in| 2019-06-20|       SILVER| 244110426| -66.1582|https://static.ca...|['Alloy Wheels', ...|     Mazda|        5 seats|   14.0|            MAZDA3|       null|186 hp @ 6,000 RPM|23695.0|   null|             0|          2.8|370599|  Flagship Chrysler|       null|186 lb-ft @ 4,000...|           A|6-Speed Automatic...|t85256|           Sedan FWD|                   null|         FWD|   Front-Wheel Drive| 107.3 in|70.7 in|2019|\n",
            "|SALYK2EX5LA275434|     37.1 in|null|      null|      null|SUV / Crossover| null|San Juan|             null|                null|          70|     00922|[!@@Additional In...|              I4|             2000.0|         I4|          Fuji White| null|         null|            True|    Land Rover|      40.2 in|        16.6 gal| Gasoline|         null|66.3 in|                null|     247.0|White (Eclipse / ...| null|        null|  null|  True|     null| 18.4439|188.9 in| 2020-07-01|        WHITE| 275458784| -66.0785|https://static.ca...|['Adaptive Cruise...|Land Rover|        5 seats|   11.0| Range Rover Velar|       null|247 hp @ 5,500 RPM|68520.0|   null|             0|          3.0|389227|Land Rover San Juan|       null|269 lb-ft @ 1,200...|           A|8-Speed Automatic...|t85614|P250 R-Dynamic S AWD|                   null|         AWD|     All-Wheel Drive| 113.1 in|84.4 in|2020|\n",
            "|SALCJ2FX6LH858128|     38.1 in|null|      null|      null|SUV / Crossover| null|San Juan|             null|                null|         196|     00922|[!@@Additional In...|              I4|             2000.0|         I4|          Eiger Gray| null|         null|            True|    Land Rover|      39.1 in|        17.7 gal| Gasoline|         null|  68 in|                null|     246.0|       Black (Ebony)| null|        null|  null|  True|     null| 18.4439|  181 in| 2020-02-26|         GRAY| 266911040| -66.0785|https://static.ca...|['Navigation Syst...|Land Rover|        7 seats|    8.0|   Discovery Sport|       null|246 hp @ 5,500 RPM|51245.0|   null|             0|          3.0|389227|Land Rover San Juan|       null|269 lb-ft @ 1,400...|           A|9-Speed Automatic...|t86759|               S AWD|                   null|         AWD|     All-Wheel Drive| 107.9 in|85.6 in|2020|\n",
            "|SALZL2GX4LH007593|     33.8 in|null|      null|      null|SUV / Crossover| null|San Juan|             null|                null|         510|     00922|[!@@Additional In...|              I4|             2000.0|         I4|              Blanco|False|        False|            True|    Land Rover|        40 in|        17.7 gal| Gasoline|        False|64.9 in|                null|     296.0|       Eclipse/Ebony|False|        null|  null| False|     null| 18.4439|172.1 in| 2019-04-18|        WHITE| 238225156| -66.0785|https://static.ca...|['Leather Seats',...|Land Rover|        5 seats|  254.0|Range Rover Evoque|       null|296 hp @ 5,500 RPM|84399.0|  False|             0|          3.0|389227|Land Rover San Juan|      False|295 lb-ft @ 1,600...|           A|9-Speed Automatic...|t85531|P300 R-Dynamic SE...|                   null|         AWD|     All-Wheel Drive| 105.6 in|82.7 in|2020|\n",
            "|ZARBAAC41FM129303|          --|null|      null|      null|          Coupe| null|Guaynabo|             null|                null|        1252|     00969|[!@@Additional In...|              I4|             1700.0|         I4|                 Red|False|        False|            True|          FIAT|      42.7 in|        10.5 gal| Gasoline|        False|46.6 in|                null|     237.0|                None|False|        null|  null| False|     null| 18.3467|157.5 in| 2017-04-06|          RED| 171865107| -66.1098|https://static.ca...|   ['Leather Seats']|Alfa Romeo|        2 seats|  301.0|                4C|        2.0|237 hp @ 6,000 RPM|97579.0|  False|             0|         null|370467|   FIAT de San Juan|      False|258 lb-ft @ 4,250...|           A|   6-Speed Automatic|t56834|Launch Edition Co...|                   null|         RWD|    Rear-Wheel Drive|  93.7 in|73.5 in|2015|\n",
            "|SALZJ2FX0LH081763|     33.8 in|null|      null|      null|SUV / Crossover| null|San Juan|             null|                null|         179|     00922|[!@@Additional In...|              I4|             2000.0|         I4|        Narvik Black| null|         null|            True|    Land Rover|        40 in|        17.7 gal| Gasoline|         null|64.9 in|                null|     246.0|       Black (Ebony)| null|        null|  null|  True|     null| 18.4439|172.1 in| 2020-03-14|        BLACK| 268609420| -66.0785|https://static.ca...|['Convenience Pac...|Land Rover|        5 seats|   22.0|Range Rover Evoque|       null|246 hp @ 5,500 RPM|51885.0|   null|             0|          3.0|389227|Land Rover San Juan|       null|269 lb-ft @ 1,400...|           A|9-Speed Automatic...|t85529|          P250 S AWD|                   null|         AWD|     All-Wheel Drive| 105.6 in|82.7 in|2020|\n",
            "|WBA8B7C53GK368522|     35.1 in|null|      null|      null|          Sedan| null|Guaynabo|             22.0|                null|        1233|     00969|[!@@Additional In...|              I6|             3000.0|         I6|              Silver|False|        False|            True|          FIAT|        42 in|        15.8 gal| Gasoline|        False|56.5 in|                33.0|     320.0|                None|False|        null|  null| False|     null| 18.3467|182.5 in| 2017-04-25|       SILVER| 173473505| -66.1098|https://static.ca...|['Sunroof/Moonroo...|       BMW|        5 seats| 6903.0|          3 Series|        2.0|320 hp @ 5,500 RPM|58995.0|  False|             0|         null|370467|   FIAT de San Juan|      False|330 lb-ft @ 1,380...|           A|   8-Speed Automatic|t58802|340i xDrive Sedan...|                   null|         AWD|     All-Wheel Drive| 110.6 in|  80 in|2016|\n",
            "|SALYK2EX8LA268316|     37.1 in|null|      null|      null|SUV / Crossover| null|San Juan|             null|                null|         201|     00922|[!@@Additional In...|              I4|             2000.0|         I4|       Aruba Premium| null|         null|            True|    Land Rover|      40.2 in|        16.6 gal| Gasoline|         null|66.3 in|                null|     247.0|Gray (Ebony / Ebony)| null|        null|  null|  True|     null| 18.4439|188.9 in| 2020-02-21|      UNKNOWN| 266454434| -66.0785|https://static.ca...|['Adaptive Cruise...|Land Rover|        5 seats|   20.0| Range Rover Velar|       null|247 hp @ 5,500 RPM|68725.0|   null|             0|          3.0|389227|Land Rover San Juan|       null|269 lb-ft @ 1,200...|           A|8-Speed Automatic...|t85614|P250 R-Dynamic S AWD|                   null|         AWD|     All-Wheel Drive| 113.1 in|84.4 in|2020|\n",
            "|3MZBPABL1KM108237|     35.1 in|null|      null|      null|          Sedan| null| Bayamon|             null|                null|         447|     00960|[!@@Additional In...|              I4|             2500.0|         I4|Snowflake White P...| null|         null|            True|          Jeep|      42.3 in|        13.2 gal| Gasoline|         null|56.9 in|                null|     186.0|               Black| null|        null|  null|  True|     null| 18.3988|183.5 in| 2019-06-20|        WHITE| 244110428| -66.1582|https://static.ca...|['Alloy Wheels', ...|     Mazda|        5 seats|  204.0|            MAZDA3|       null|186 hp @ 6,000 RPM|23695.0|   null|             0|          2.8|370599|  Flagship Chrysler|       null|186 lb-ft @ 4,000...|           A|6-Speed Automatic...|t85256|           Sedan FWD|                   null|         FWD|   Front-Wheel Drive| 107.3 in|70.7 in|2019|\n",
            "|3MZBPABL4KM107969|     35.1 in|null|      null|      null|          Sedan| null| Bayamon|             null|                null|         447|     00960|[!@@Additional In...|              I4|             2500.0|         I4|Snowflake White P...| null|         null|            True|          Jeep|      42.3 in|        13.2 gal| Gasoline|         null|56.9 in|                null|     186.0|               Black| null|        null|  null|  True|     null| 18.3988|183.5 in| 2019-06-20|        WHITE| 244110438| -66.1582|https://static.ca...|['Alloy Wheels', ...|     Mazda|        5 seats|   61.0|            MAZDA3|       null|186 hp @ 6,000 RPM|23695.0|   null|             0|          2.8|370599|  Flagship Chrysler|       null|186 lb-ft @ 4,000...|           A|6-Speed Automatic...|t85256|           Sedan FWD|                   null|         FWD|   Front-Wheel Drive| 107.3 in|70.7 in|2019|\n",
            "|SALCP2FX9LH857747|     38.1 in|null|      null|      null|SUV / Crossover| null|San Juan|             null|                null|         187|     00922|[!@@Additional In...|              I4|             2000.0|         I4|         Firenze Red| null|         null|            True|    Land Rover|      39.1 in|        17.7 gal| Gasoline|         null|  68 in|                null|     246.0|       Black (Ebony)| null|        null|  null|  True|     null| 18.4439|  181 in| 2020-03-06|          RED| 267851174| -66.0785|https://static.ca...|['Navigation Syst...|Land Rover|        7 seats|    6.0|   Discovery Sport|       null|246 hp @ 5,500 RPM|52275.0|   null|             0|          3.0|389227|Land Rover San Juan|       null|269 lb-ft @ 1,400...|           A|9-Speed Automatic...|t86761|              SE AWD|                   null|         AWD|     All-Wheel Drive| 107.9 in|85.6 in|2020|\n",
            "|SALYK2EX8LA284533|     37.1 in|null|      null|      null|SUV / Crossover| null|San Juan|             null|                null|          20|     00922|[!@@Additional In...|              I4|             2000.0|         I4|         Firenze Red| null|         null|            True|    Land Rover|      40.2 in|        16.6 gal| Gasoline|         null|66.3 in|                null|     247.0| Red (Ebony / Ebony)| null|        null|  null|  True|     null| 18.4439|188.9 in| 2020-08-20|          RED| 279794909| -66.0785|https://static.ca...|['Adaptive Cruise...|Land Rover|        5 seats|    7.0| Range Rover Velar|       null|247 hp @ 5,500 RPM|68760.0|   null|             0|          3.0|389227|Land Rover San Juan|       null|269 lb-ft @ 1,200...|           A|8-Speed Automatic...|t85614|P250 R-Dynamic S AWD|                   null|         AWD|     All-Wheel Drive| 113.1 in|84.4 in|2020|\n",
            "|SALYK2EX0LA284669|     37.1 in|null|      null|      null|SUV / Crossover| null|San Juan|             null|                null|          13|     00922|[!@@Additional In...|              I4|             2000.0|         I4|      Kaikoura Stone| null|         null|            True|    Land Rover|      40.2 in|        16.6 gal| Gasoline|         null|66.3 in|                null|     247.0|Brown (Ebony / Eb...| null|        null|  null|  True|     null| 18.4439|188.9 in| 2020-08-27|      UNKNOWN| 280451806| -66.0785|https://static.ca...|['Adaptive Cruise...|Land Rover|        5 seats|    5.0| Range Rover Velar|       null|247 hp @ 5,500 RPM|68760.0|   null|             0|          3.0|389227|Land Rover San Juan|       null|269 lb-ft @ 1,200...|           A|8-Speed Automatic...|t85614|P250 R-Dynamic S AWD|                   null|         AWD|     All-Wheel Drive| 113.1 in|84.4 in|2020|\n",
            "|SALCP2FX8LH854709|     38.1 in|null|      null|      null|SUV / Crossover| null|San Juan|             null|                null|         230|     00922|[!@@Additional In...|              I4|             2000.0|         I4|     Santorini Black| null|         null|            True|    Land Rover|      39.1 in|        17.7 gal| Gasoline|         null|  68 in|                null|     246.0|       Black (Ebony)| null|        null|  null|  True|     null| 18.4439|  181 in| 2020-01-23|        BLACK| 263868330| -66.0785|https://static.ca...|['Navigation Syst...|Land Rover|        7 seats|    8.0|   Discovery Sport|       null|246 hp @ 5,500 RPM|53770.0|   null|             0|          3.0|389227|Land Rover San Juan|       null|269 lb-ft @ 1,400...|           A|9-Speed Automatic...|t86761|              SE AWD|                   null|         AWD|     All-Wheel Drive| 107.9 in|85.6 in|2020|\n",
            "+-----------------+------------+----+----------+----------+---------------+-----+--------+-----------------+--------------------+------------+----------+--------------------+----------------+-------------------+-----------+--------------------+-----+-------------+----------------+--------------+-------------+----------------+---------+-------------+-------+--------------------+----------+--------------------+-----+------------+------+------+---------+--------+--------+-----------+-------------+----------+---------+--------------------+--------------------+----------+---------------+-------+------------------+-----------+------------------+-------+-------+--------------+-------------+------+-------------------+-----------+--------------------+------------+--------------------+------+--------------------+-----------------------+------------+--------------------+---------+-------+----+\n",
            "only showing top 20 rows\n",
            "\n"
          ]
        }
      ]
    },
    {
      "cell_type": "code",
      "metadata": {
        "colab": {
          "base_uri": "https://localhost:8080/"
        },
        "id": "n1KYb2UX80ae",
        "outputId": "4edab2c8-371d-4bf5-cdb0-36bd01b16e52"
      },
      "source": [
        "print(vehicle_listings.columns)"
      ],
      "execution_count": 11,
      "outputs": [
        {
          "output_type": "stream",
          "name": "stdout",
          "text": [
            "['vin', 'back_legroom', 'bed', 'bed_height', 'bed_length', 'body_type', 'cabin', 'city', 'city_fuel_economy', 'combine_fuel_economy', 'daysonmarket', 'dealer_zip', 'description', 'engine_cylinders', 'engine_displacement', 'engine_type', 'exterior_color', 'fleet', 'frame_damaged', 'franchise_dealer', 'franchise_make', 'front_legroom', 'fuel_tank_volume', 'fuel_type', 'has_accidents', 'height', 'highway_fuel_economy', 'horsepower', 'interior_color', 'isCab', 'is_certified', 'is_cpo', 'is_new', 'is_oemcpo', 'latitude', 'length', 'listed_date', 'listing_color', 'listing_id', 'longitude', 'main_picture_url', 'major_options', 'make_name', 'maximum_seating', 'mileage', 'model_name', 'owner_count', 'power', 'price', 'salvage', 'savings_amount', 'seller_rating', 'sp_id', 'sp_name', 'theft_title', 'torque', 'transmission', 'transmission_display', 'trimId', 'trim_name', 'vehicle_damage_category', 'wheel_system', 'wheel_system_display', 'wheelbase', 'width', 'year']\n"
          ]
        }
      ]
    },
    {
      "cell_type": "code",
      "metadata": {
        "id": "uR3lhaiKBgM_",
        "colab": {
          "base_uri": "https://localhost:8080/"
        },
        "outputId": "b2a35070-aecb-4fce-f05d-1989f3a46d59"
      },
      "source": [
        "print(vehicle_listings.count(),len(vehicle_listings.columns))"
      ],
      "execution_count": 12,
      "outputs": [
        {
          "output_type": "stream",
          "name": "stdout",
          "text": [
            "3000507 66\n"
          ]
        }
      ]
    },
    {
      "cell_type": "code",
      "metadata": {
        "id": "VG410-d682w3"
      },
      "source": [
        "vehicle_listings_clean=vehicle_listings.drop_duplicates(['vin', 'back_legroom', 'bed', 'bed_height', 'bed_length', 'body_type', 'cabin', 'city', 'city_fuel_economy', 'combine_fuel_economy', 'daysonmarket', 'dealer_zip', 'description', 'engine_cylinders', 'engine_displacement', 'engine_type', 'exterior_color', 'fleet', 'frame_damaged', 'franchise_dealer', 'franchise_make', 'front_legroom', 'fuel_tank_volume', 'fuel_type', 'has_accidents', 'height', 'highway_fuel_economy', 'horsepower', 'interior_color', 'isCab', 'is_certified', 'is_cpo', 'is_new', 'is_oemcpo', 'latitude', 'length', 'listed_date', 'listing_color', 'listing_id', 'longitude', 'main_picture_url', 'major_options', 'make_name', 'maximum_seating', 'mileage', 'model_name', 'owner_count', 'power', 'price', 'salvage', 'savings_amount', 'seller_rating', 'sp_id', 'sp_name', 'theft_title', 'torque', 'transmission', 'transmission_display', 'trimId', 'trim_name', 'vehicle_damage_category', 'wheel_system', 'wheel_system_display', 'wheelbase', 'width', 'year'])"
      ],
      "execution_count": 39,
      "outputs": []
    },
    {
      "cell_type": "code",
      "metadata": {
        "id": "CfUPeTqT85eV"
      },
      "source": [
        "df=vehicle_listings_clean.select(\"vin\",\"body_type\",\"city\",\"daysonmarket\",\"engine_cylinders\",\"exterior_color\",\"franchise_dealer\",\"franchise_make\",\n",
        "\"front_legroom\",\"fuel_tank_volume\",\"fuel_type\",\"has_accidents\",\"city_fuel_economy\",\"highway_fuel_economy\",\"isCab\",\"is_new\",\"length\",\"make_name\",\n",
        "\"maximum_seating\",\"mileage\",\"model_name\",\"price\",\"seller_rating\",\"width\",\"horsepower\",\"height\",\"transmission_display\")"
      ],
      "execution_count": 40,
      "outputs": []
    },
    {
      "cell_type": "code",
      "metadata": {
        "id": "Ot1VVDfn88Sy"
      },
      "source": [
        "cars=df.na.fill({'body_type':'Sedan','city':'all','daysonmarket':220,'engine_cylinders':'unknown','exterior_color':'unknown','franchise_dealer':False,'franchise_make':'unknown','front_legroom':39,'fuel_tank_volume': 13.2,'fuel_type':'unknown','has_accidents':False,'city_fuel_economy':15,'highway_fuel_economy':12,'isCab':False,'is_new':False,'length':230,'make_name':'unknown','maximum_seating':5,'mileage':0,'model_name':'unknown','price':'negotiable','seller_rating':2,'width':73.2,'horsepower':145.0,'height':61})\n"
      ],
      "execution_count": 41,
      "outputs": []
    },
    {
      "cell_type": "code",
      "metadata": {
        "id": "AmQmUn-yeM_3"
      },
      "source": [
        "basic=[\"price\",\"make_name\",\"model_name\",\"city\",\"seller_rating\"]"
      ],
      "execution_count": 16,
      "outputs": []
    },
    {
      "cell_type": "code",
      "metadata": {
        "id": "QD_bmm7U-o8M",
        "colab": {
          "base_uri": "https://localhost:8080/"
        },
        "outputId": "376314fe-030f-4ea5-900c-5d9f06f0b349"
      },
      "source": [
        "q1=cars.where(\"price<=100000 and city='Howell'\").select(basic).orderBy(desc(\"seller_rating\")).show(10)"
      ],
      "execution_count": 18,
      "outputs": [
        {
          "output_type": "stream",
          "name": "stdout",
          "text": [
            "+-------+---------+------------------+------+-------------+\n",
            "|  price|make_name|        model_name|  city|seller_rating|\n",
            "+-------+---------+------------------+------+-------------+\n",
            "|13995.0|     Ford|            Fusion|Howell|          5.0|\n",
            "|54900.0|     Ford|  F-350 Super Duty|Howell|          5.0|\n",
            "|25900.0| Chrysler|          Pacifica|Howell|          5.0|\n",
            "|20900.0|     Jeep|Wrangler Unlimited|Howell|          5.0|\n",
            "|26900.0|     Ford|          Explorer|Howell|          5.0|\n",
            "|69900.0|    Dodge|           Charger|Howell|          5.0|\n",
            "|15900.0|   Nissan|            Maxima|Howell|          5.0|\n",
            "|20900.0|      GMC|           Terrain|Howell|          5.0|\n",
            "|20988.0|     Ford|     Fusion Hybrid|Howell|          5.0|\n",
            "|30900.0|     Jeep|Wrangler Unlimited|Howell|          5.0|\n",
            "+-------+---------+------------------+------+-------------+\n",
            "only showing top 10 rows\n",
            "\n"
          ]
        }
      ]
    },
    {
      "cell_type": "code",
      "metadata": {
        "id": "S5n5lEZzJJmO",
        "colab": {
          "base_uri": "https://localhost:8080/"
        },
        "outputId": "cb09c6d1-70c0-4ed5-b5aa-c620c8c1d12d"
      },
      "source": [
        "q2=cars.where(\"make_name='BMW'or make_name='Ford'\").select(\"make_name\",\"model_name\",\"body_type\",\"is_new\",\"price\",\"seller_rating\").show(20)"
      ],
      "execution_count": 19,
      "outputs": [
        {
          "output_type": "stream",
          "name": "stdout",
          "text": [
            "+---------+----------------+---------------+------+-------+------------------+\n",
            "|make_name|      model_name|      body_type|is_new|  price|     seller_rating|\n",
            "+---------+----------------+---------------+------+-------+------------------+\n",
            "|      BMW|        5 Series|          Sedan| False|38995.0|3.3461538461538463|\n",
            "|      BMW|              X4|SUV / Crossover| False|23900.0|4.4186046511627906|\n",
            "|      BMW|              X3|SUV / Crossover| False|24995.0|             4.125|\n",
            "|     Ford|          Fusion|          Sedan| False|13995.0|               5.0|\n",
            "|     Ford|F-350 Super Duty|   Pickup Truck| False|54900.0|               5.0|\n",
            "|     Ford|          Fusion|          Sedan|  True|25295.0|               4.5|\n",
            "|      BMW|        3 Series|          Sedan| False|44250.0| 4.161290322580645|\n",
            "|      BMW|        3 Series|          Sedan| False|25795.0| 4.161290322580645|\n",
            "|     Ford|  Focus Electric|      Hatchback| False|12995.0| 4.237333333333333|\n",
            "|     Ford|        Explorer|SUV / Crossover| False|26990.0| 4.717948717948718|\n",
            "|     Ford|          Fusion|          Sedan|  True|24859.0| 4.769230769230769|\n",
            "|      BMW|              i8|          Coupe| False|63995.0| 4.571428571428571|\n",
            "|     Ford|          Escape|SUV / Crossover| False| 3399.0|3.6470588235294117|\n",
            "|     Ford|           F-150|   Pickup Truck|  True|49527.0| 4.769230769230769|\n",
            "|      BMW|        5 Series|          Sedan|  True|65550.0|3.9565217391304346|\n",
            "|     Ford|           F-150|   Pickup Truck|  True|47314.0| 4.769230769230769|\n",
            "|      BMW|              X3|SUV / Crossover|  True|48535.0| 4.225806451612903|\n",
            "|      BMW|              X3|SUV / Crossover|  True|50535.0| 4.225806451612903|\n",
            "|     Ford|          Fusion|          Sedan|  True|23476.0| 4.571428571428571|\n",
            "|     Ford|          Fusion|          Sedan|  True|27768.0| 3.933333333333333|\n",
            "+---------+----------------+---------------+------+-------+------------------+\n",
            "only showing top 20 rows\n",
            "\n"
          ]
        }
      ]
    },
    {
      "cell_type": "code",
      "metadata": {
        "id": "hhO0YwEog9VD",
        "colab": {
          "base_uri": "https://localhost:8080/"
        },
        "outputId": "a3a41de6-5f37-4a75-9da9-d92ee02edded"
      },
      "source": [
        "q3=cars.select(\"body_type\").distinct().show(5)"
      ],
      "execution_count": 20,
      "outputs": [
        {
          "output_type": "stream",
          "name": "stdout",
          "text": [
            "+------------+\n",
            "|   body_type|\n",
            "+------------+\n",
            "|   Hatchback|\n",
            "| Convertible|\n",
            "|       Sedan|\n",
            "|Pickup Truck|\n",
            "|       Wagon|\n",
            "+------------+\n",
            "only showing top 5 rows\n",
            "\n"
          ]
        }
      ]
    },
    {
      "cell_type": "code",
      "metadata": {
        "id": "TQEe6dOjlWJg",
        "colab": {
          "base_uri": "https://localhost:8080/"
        },
        "outputId": "4a4744f2-2804-4af8-f5a9-d6632f92784b"
      },
      "source": [
        "q3=cars.filter(\"make_name='Ford'\").select(\"model_name\").distinct().show(10)"
      ],
      "execution_count": 21,
      "outputs": [
        {
          "output_type": "stream",
          "name": "stdout",
          "text": [
            "+--------------------+\n",
            "|          model_name|\n",
            "+--------------------+\n",
            "|            E-Series|\n",
            "|     Transit Connect|\n",
            "|                Flex|\n",
            "|               Focus|\n",
            "|       Fusion Energi|\n",
            "|               F-150|\n",
            "|F-350 Super Duty ...|\n",
            "|              Fusion|\n",
            "|Mustang Shelby GT350|\n",
            "|     Explorer Hybrid|\n",
            "+--------------------+\n",
            "only showing top 10 rows\n",
            "\n"
          ]
        }
      ]
    },
    {
      "cell_type": "code",
      "metadata": {
        "id": "eoUz-6IhnQsN",
        "colab": {
          "base_uri": "https://localhost:8080/"
        },
        "outputId": "82c66bed-1093-4681-eb2e-e5e82bc76491"
      },
      "source": [
        "q4=cars.filter(\"transmission_display='Automatic' and seller_rating=5.0\").select(\"make_name\",\"model_name\",\"body_type\",\"transmission_display\",\"horsepower\",\"price\",\"seller_rating\").sort(desc(\"seller_rating\")).show()"
      ],
      "execution_count": 42,
      "outputs": [
        {
          "output_type": "stream",
          "name": "stdout",
          "text": [
            "+---------+------------------+---------------+--------------------+----------+-------+-------------+\n",
            "|make_name|        model_name|      body_type|transmission_display|horsepower|  price|seller_rating|\n",
            "+---------+------------------+---------------+--------------------+----------+-------+-------------+\n",
            "|     Ford|            Fusion|          Sedan|           Automatic|     245.0|13995.0|          5.0|\n",
            "|     Ford|  F-350 Super Duty|   Pickup Truck|           Automatic|     440.0|54900.0|          5.0|\n",
            "|Chevrolet|            Camaro|          Coupe|           Automatic|     650.0|51988.0|          5.0|\n",
            "| Chrysler|          Pacifica|        Minivan|           Automatic|     287.0|25900.0|          5.0|\n",
            "|      BMW|          5 Series|          Sedan|           Automatic|     248.0|27995.0|          5.0|\n",
            "|     Ford|          EcoSport|SUV / Crossover|           Automatic|     166.0|24512.0|          5.0|\n",
            "|     Jeep|           Compass|SUV / Crossover|           Automatic|     180.0|21288.0|          5.0|\n",
            "|     Jeep|           Compass|SUV / Crossover|           Automatic|     180.0|21288.0|          5.0|\n",
            "|     Audi|                A3|          Sedan|           Automatic|     220.0|20488.0|          5.0|\n",
            "| INFINITI|              QX60|SUV / Crossover|           Automatic|     295.0|48295.0|          5.0|\n",
            "|     Jeep|Wrangler Unlimited|SUV / Crossover|           Automatic|     285.0|20900.0|          5.0|\n",
            "|     Ford|          Explorer|SUV / Crossover|           Automatic|     365.0|26900.0|          5.0|\n",
            "|     Ford|            Escape|SUV / Crossover|           Automatic|     250.0|32804.0|          5.0|\n",
            "| INFINITI|               Q50|          Sedan|           Automatic|     400.0|36999.0|          5.0|\n",
            "|     Ford|          EcoSport|SUV / Crossover|           Automatic|     166.0|24512.0|          5.0|\n",
            "| INFINITI|              QX60|SUV / Crossover|           Automatic|     295.0|53255.0|          5.0|\n",
            "|     Jeep|    Grand Cherokee|SUV / Crossover|           Automatic|     470.0|27995.0|          5.0|\n",
            "|    Volvo|              XC40|SUV / Crossover|           Automatic|     248.0|43035.0|          5.0|\n",
            "|    Volvo|              XC60|SUV / Crossover|           Automatic|     250.0|55810.0|          5.0|\n",
            "|      BMW|          6 Series|          Sedan|           Automatic|     315.0|29995.0|          5.0|\n",
            "+---------+------------------+---------------+--------------------+----------+-------+-------------+\n",
            "only showing top 20 rows\n",
            "\n"
          ]
        }
      ]
    },
    {
      "cell_type": "code",
      "metadata": {
        "id": "-bgtwJqklwqR",
        "colab": {
          "base_uri": "https://localhost:8080/"
        },
        "outputId": "2f93baa6-9230-4f00-c060-49b04cfbc61d"
      },
      "source": [
        "q5=cars.filter(\"make_name='BMW' and model_name='X3'\").select(basic).orderBy(desc(\"seller_rating\")).show(10)"
      ],
      "execution_count": 22,
      "outputs": [
        {
          "output_type": "stream",
          "name": "stdout",
          "text": [
            "+-------+---------+----------+-----------+-------------+\n",
            "|  price|make_name|model_name|       city|seller_rating|\n",
            "+-------+---------+----------+-----------+-------------+\n",
            "|23900.0|      BMW|        X3|   Brockton|          5.0|\n",
            "|52745.0|      BMW|        X3| South Bend|          5.0|\n",
            "|11900.0|      BMW|        X3|  Salisbury|          5.0|\n",
            "|12900.0|      BMW|        X3|New Windsor|          5.0|\n",
            "|11900.0|      BMW|        X3|Londonderry|          5.0|\n",
            "|25900.0|      BMW|        X3|   Hooksett|          5.0|\n",
            "|50235.0|      BMW|        X3| South Bend|          5.0|\n",
            "|11995.0|      BMW|        X3| Bloomfield|          5.0|\n",
            "|14500.0|      BMW|        X3|    Methuen|          5.0|\n",
            "| 6950.0|      BMW|        X3|   Coventry|          5.0|\n",
            "+-------+---------+----------+-----------+-------------+\n",
            "only showing top 10 rows\n",
            "\n"
          ]
        }
      ]
    },
    {
      "cell_type": "code",
      "metadata": {
        "id": "P7fVSygfoeh5",
        "colab": {
          "base_uri": "https://localhost:8080/"
        },
        "outputId": "a461a0b0-b2a3-47f2-d54e-1c92b01b5788"
      },
      "source": [
        "q6=cars.filter(\"make_name='Ford' and model_name='Fusion'\").select(\"price\",\"make_name\",\"model_name\",\"city\",\"seller_rating\",\"daysonmarket\").orderBy(asc(\"daysonmarket\")).show(10)"
      ],
      "execution_count": 43,
      "outputs": [
        {
          "output_type": "stream",
          "name": "stdout",
          "text": [
            "+-------+---------+----------+----------------+------------------+------------+\n",
            "|  price|make_name|model_name|            city|     seller_rating|daysonmarket|\n",
            "+-------+---------+----------+----------------+------------------+------------+\n",
            "|30935.0|     Ford|    Fusion|       Amsterdam|              3.75|           0|\n",
            "|17995.0|     Ford|    Fusion|   Wall Township| 4.666666666666667|           0|\n",
            "|22999.0|     Ford|    Fusion|      Portsmouth| 4.428571428571429|           0|\n",
            "| 6900.0|     Ford|    Fusion|North Chelmsford|               5.0|           0|\n",
            "|12999.0|     Ford|    Fusion| North Attleboro|                 2|           0|\n",
            "|16990.0|     Ford|    Fusion|        Freeport|2.8771929824561404|           0|\n",
            "|11795.0|     Ford|    Fusion|           Alton|               4.6|           0|\n",
            "|12650.0|     Ford|    Fusion|             Bow| 4.611111111111111|           0|\n",
            "| 7495.0|     Ford|    Fusion|         Sheldon| 4.666666666666667|           0|\n",
            "|27669.0|     Ford|    Fusion|     Fowlerville|               3.9|           0|\n",
            "+-------+---------+----------+----------------+------------------+------------+\n",
            "only showing top 10 rows\n",
            "\n"
          ]
        }
      ]
    },
    {
      "cell_type": "markdown",
      "metadata": {
        "id": "wMfnjM8C1Fqr"
      },
      "source": [
        "data visuvalization"
      ]
    },
    {
      "cell_type": "code",
      "metadata": {
        "id": "_OjIuhiZWVc2"
      },
      "source": [
        "df_heat=cars.sample(False,0.0001,63).toPandas()"
      ],
      "execution_count": 24,
      "outputs": []
    },
    {
      "cell_type": "code",
      "metadata": {
        "id": "AKdNqDEUoSvI",
        "colab": {
          "base_uri": "https://localhost:8080/",
          "height": 166
        },
        "outputId": "f00b675c-c867-45fb-da27-52905b44c519"
      },
      "source": [
        "df_heat.head(2)"
      ],
      "execution_count": 25,
      "outputs": [
        {
          "output_type": "execute_result",
          "data": {
            "text/html": [
              "<div>\n",
              "<style scoped>\n",
              "    .dataframe tbody tr th:only-of-type {\n",
              "        vertical-align: middle;\n",
              "    }\n",
              "\n",
              "    .dataframe tbody tr th {\n",
              "        vertical-align: top;\n",
              "    }\n",
              "\n",
              "    .dataframe thead th {\n",
              "        text-align: right;\n",
              "    }\n",
              "</style>\n",
              "<table border=\"1\" class=\"dataframe\">\n",
              "  <thead>\n",
              "    <tr style=\"text-align: right;\">\n",
              "      <th></th>\n",
              "      <th>vin</th>\n",
              "      <th>body_type</th>\n",
              "      <th>city</th>\n",
              "      <th>daysonmarket</th>\n",
              "      <th>engine_cylinders</th>\n",
              "      <th>exterior_color</th>\n",
              "      <th>franchise_dealer</th>\n",
              "      <th>franchise_make</th>\n",
              "      <th>front_legroom</th>\n",
              "      <th>fuel_tank_volume</th>\n",
              "      <th>fuel_type</th>\n",
              "      <th>has_accidents</th>\n",
              "      <th>city_fuel_economy</th>\n",
              "      <th>highway_fuel_economy</th>\n",
              "      <th>isCab</th>\n",
              "      <th>is_new</th>\n",
              "      <th>length</th>\n",
              "      <th>make_name</th>\n",
              "      <th>maximum_seating</th>\n",
              "      <th>mileage</th>\n",
              "      <th>model_name</th>\n",
              "      <th>price</th>\n",
              "      <th>seller_rating</th>\n",
              "      <th>width</th>\n",
              "      <th>horsepower</th>\n",
              "      <th>height</th>\n",
              "      <th>transmission_display</th>\n",
              "    </tr>\n",
              "  </thead>\n",
              "  <tbody>\n",
              "    <tr>\n",
              "      <th>0</th>\n",
              "      <td>1FM5K8D83JGA45727</td>\n",
              "      <td>SUV / Crossover</td>\n",
              "      <td>Little Rock</td>\n",
              "      <td>16</td>\n",
              "      <td>V6</td>\n",
              "      <td>Ingot Silver Metallic</td>\n",
              "      <td>True</td>\n",
              "      <td>Nissan</td>\n",
              "      <td>42.9 in</td>\n",
              "      <td>18.6 gal</td>\n",
              "      <td>Gasoline</td>\n",
              "      <td>True</td>\n",
              "      <td>16.0</td>\n",
              "      <td>22.0</td>\n",
              "      <td>True</td>\n",
              "      <td>False</td>\n",
              "      <td>198.3 in</td>\n",
              "      <td>Ford</td>\n",
              "      <td>7 seats</td>\n",
              "      <td>55532.0</td>\n",
              "      <td>Explorer</td>\n",
              "      <td>28800.0</td>\n",
              "      <td>4.105263157894737</td>\n",
              "      <td>90.2 in</td>\n",
              "      <td>290.0</td>\n",
              "      <td>71 in</td>\n",
              "      <td>Automatic</td>\n",
              "    </tr>\n",
              "    <tr>\n",
              "      <th>1</th>\n",
              "      <td>JTEBU5JR3J5583039</td>\n",
              "      <td>SUV / Crossover</td>\n",
              "      <td>Show Low</td>\n",
              "      <td>1</td>\n",
              "      <td>V6</td>\n",
              "      <td>Nautical Blue Metallic</td>\n",
              "      <td>True</td>\n",
              "      <td>Chevrolet</td>\n",
              "      <td>41.7 in</td>\n",
              "      <td>23 gal</td>\n",
              "      <td>Gasoline</td>\n",
              "      <td>False</td>\n",
              "      <td>17.0</td>\n",
              "      <td>20.0</td>\n",
              "      <td>False</td>\n",
              "      <td>False</td>\n",
              "      <td>190.2 in</td>\n",
              "      <td>Toyota</td>\n",
              "      <td>7 seats</td>\n",
              "      <td>43825.0</td>\n",
              "      <td>4Runner</td>\n",
              "      <td>34000.0</td>\n",
              "      <td>3.6</td>\n",
              "      <td>75.8 in</td>\n",
              "      <td>270.0</td>\n",
              "      <td>71.5 in</td>\n",
              "      <td>Automatic</td>\n",
              "    </tr>\n",
              "  </tbody>\n",
              "</table>\n",
              "</div>"
            ],
            "text/plain": [
              "                 vin        body_type  ...   height transmission_display\n",
              "0  1FM5K8D83JGA45727  SUV / Crossover  ...    71 in            Automatic\n",
              "1  JTEBU5JR3J5583039  SUV / Crossover  ...  71.5 in            Automatic\n",
              "\n",
              "[2 rows x 27 columns]"
            ]
          },
          "metadata": {},
          "execution_count": 25
        }
      ]
    },
    {
      "cell_type": "code",
      "metadata": {
        "id": "NnQOYtLOtUf4"
      },
      "source": [
        "df_heat['daysonmarket']= pd.to_numeric(df_heat['daysonmarket'])"
      ],
      "execution_count": 26,
      "outputs": []
    },
    {
      "cell_type": "code",
      "metadata": {
        "id": "F79uNlug0FrW"
      },
      "source": [
        "df_heat['city_fuel_economy']= pd.to_numeric(df_heat['city_fuel_economy'])"
      ],
      "execution_count": 27,
      "outputs": []
    },
    {
      "cell_type": "code",
      "metadata": {
        "id": "AkA1B0IJqEPu",
        "colab": {
          "base_uri": "https://localhost:8080/",
          "height": 434
        },
        "outputId": "fa21e96f-8cfc-4486-8b57-897bdf13a656"
      },
      "source": [
        "import seaborn as sns\n",
        "plt.figure(figsize=(15,5), dpi=100) \n",
        "sns.barplot(x = 'body_type',y = 'daysonmarket',data = df_heat,palette = \"Blues\")\n",
        "plt.title('Body type vs Days on Market', fontsize = 14)\n",
        "plt.xlabel('Body types')\n",
        "plt.ylabel('Days on Market')\n",
        "plt.show()"
      ],
      "execution_count": 45,
      "outputs": [
        {
          "output_type": "display_data",
          "data": {
            "image/png": "[encoded data removed]",
            "text/plain": [
              "<Figure size 1500x500 with 1 Axes>"
            ]
          },
          "metadata": {
            "needs_background": "light"
          }
        }
      ]
    },
    {
      "cell_type": "code",
      "metadata": {
        "id": "tC5qGNmq0MWN",
        "colab": {
          "base_uri": "https://localhost:8080/"
        },
        "outputId": "546afeeb-b495-4db2-8de6-551f3bef3e8c"
      },
      "source": [
        "print(df_heat['make_name'].value_counts())"
      ],
      "execution_count": 29,
      "outputs": [
        {
          "output_type": "stream",
          "name": "stdout",
          "text": [
            "Ford                    25\n",
            "Chevrolet               18\n",
            "Toyota                  16\n",
            "Honda                   16\n",
            "Nissan                  12\n",
            "                        ..\n",
            "Keyless Entry            1\n",
            "4-Wheel Disc Brakes      1\n",
            "Illuminated entry        1\n",
            "Leather Shift Knob       1\n",
            "Remote keyless entry     1\n",
            "Name: make_name, Length: 128, dtype: int64\n"
          ]
        }
      ]
    },
    {
      "cell_type": "code",
      "metadata": {
        "id": "66irqdL90MSt",
        "colab": {
          "base_uri": "https://localhost:8080/",
          "height": 814
        },
        "outputId": "d25a1c2a-3804-4ede-a7f7-7e60b3d05e6a"
      },
      "source": [
        "cars = ['FORD', 'CHEVROLET', 'HONDA',\n",
        "        'TOYOTA', 'NISSAN', 'OTHERS']\n",
        "data = [25, 18, 16, 16, 12, 213]\n",
        "plt.figure(figsize=(15,10), dpi=100)\n",
        "plt.pie(data, labels = cars,autopct='%1.1f%%')\n",
        "\n",
        "plt.title(' COMPANY NAMES')\n",
        "\n",
        "plt.show()"
      ],
      "execution_count": 49,
      "outputs": [
        {
          "output_type": "display_data",
          "data": {
            "image/png": "[encoded data removed]",
            "text/plain": [
              "<Figure size 1500x1000 with 1 Axes>"
            ]
          },
          "metadata": {}
        }
      ]
    },
    {
      "cell_type": "code",
      "metadata": {
        "id": "zBp_wx4Ju9bm",
        "colab": {
          "base_uri": "https://localhost:8080/",
          "height": 555
        },
        "outputId": "59df5b00-f04e-4624-e302-f20899d1194b"
      },
      "source": [
        "import seaborn as sns\n",
        "plt.figure(figsize=(5,6), dpi=100) \n",
        "sns.barplot(x ='city_fuel_economy',y='body_type',data = df_heat,palette = \"Blues\")\n",
        "plt.title('car body type and its mgc')\n",
        "plt.xlabel('Mileage')\n",
        "plt.ylabel('Body type')\n",
        "\n",
        "plt.show()"
      ],
      "execution_count": 64,
      "outputs": [
        {
          "output_type": "display_data",
          "data": {
            "image/png": "[encoded data removed]",
            "text/plain": [
              "<Figure size 500x600 with 1 Axes>"
            ]
          },
          "metadata": {
            "needs_background": "light"
          }
        }
      ]
    }
  ]
}